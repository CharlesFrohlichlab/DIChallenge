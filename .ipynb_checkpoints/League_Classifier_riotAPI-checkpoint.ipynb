{
 "cells": [
  {
   "cell_type": "markdown",
   "metadata": {},
   "source": [
    "## League of Legends Game Outcome Classifier (With Riot API Player Data)\n",
    "\n",
    "Objective: Load and clean League of Legends game data to identify important \n",
    "    game features that contribute and predict game outcome. This is important \n",
    "    because the goal of many players is to identify aspects of the game to improve\n",
    "    on and the analyses outlined below is generalizable to all skill-based games\n",
    "    and sports.\n",
    "\n",
    "In this version, data from a specific designated player are pulled from the riot API and matches are predicted with the \n",
    "    model we have built.\n",
    "    \n",
    "Data from: https://github.com/DoransLab/data/tree/master/champion_clustering\n",
    "\n",
    "Python Notebook can be visualized here: https://nbviewer.jupyter.org/github/CharlesFrohlichlab/DIChallenge/blob/master/League_Classifier.ipynb\n",
    "\n",
    "Author: Zhe Charles Zhou"
   ]
  },
  {
   "cell_type": "code",
   "execution_count": 3,
   "metadata": {},
   "outputs": [
    {
     "name": "stdout",
     "output_type": "stream",
     "text": [
      "match0\n",
      "match1\n",
      "match2\n",
      "match3\n",
      "match4\n",
      "match5\n",
      "match6\n",
      "match7\n",
      "match8\n",
      "match9\n",
      "match10\n",
      "match11\n",
      "match12\n",
      "match13\n",
      "match14\n",
      "match15\n",
      "match16\n",
      "match17\n",
      "match18\n",
      "match19\n",
      "match20\n",
      "match21\n",
      "match22\n",
      "match23\n",
      "match24\n",
      "match25\n",
      "match26\n",
      "match27\n",
      "match28\n",
      "match29\n",
      "match30\n",
      "match31\n",
      "match32\n",
      "match33\n",
      "match34\n",
      "match35\n",
      "match36\n",
      "match37\n",
      "match38\n",
      "match39\n",
      "match40\n",
      "match41\n",
      "match42\n",
      "match43\n",
      "match44\n",
      "match45\n",
      "match46\n",
      "match47\n",
      "match48\n",
      "match49\n",
      "match50\n",
      "match51\n",
      "match52\n",
      "match53\n",
      "match54\n",
      "match55\n",
      "match56\n",
      "match57\n",
      "match58\n",
      "match59\n",
      "match60\n",
      "match61\n",
      "match62\n",
      "match63\n",
      "match64\n",
      "match65\n",
      "Missing fields\n",
      "match66\n",
      "Missing fields\n",
      "match67\n",
      "Missing fields\n",
      "match68\n",
      "match69\n",
      "match70\n",
      "match71\n",
      "match72\n",
      "match73\n",
      "match74\n",
      "match75\n",
      "match76\n",
      "match77\n",
      "match78\n",
      "match79\n",
      "match80\n",
      "match81\n",
      "match82\n",
      "match83\n",
      "match84\n",
      "match85\n",
      "match86\n",
      "match87\n",
      "match88\n",
      "match89\n",
      "match90\n",
      "match91\n",
      "match92\n",
      "match93\n",
      "match94\n",
      "match95\n",
      "match96\n",
      "match97\n",
      "match98\n"
     ]
    }
   ],
   "source": [
    "#### Import toolboxes\n",
    "\n",
    "import numpy as np\n",
    "import pandas as pd\n",
    "\n",
    "import matplotlib.pyplot as plt\n",
    "import seaborn as sns\n",
    "\n",
    "import sys # use sys to add path to riotAPI_matchInfo script\n",
    "sys.path.insert(0, 'C:/Users/Zhe/Documents/GitHub/NYPD_MotorVehColl')\n",
    "from riotAPI_matchInfo import dfPlayer, dataYPlayer # IMPORTANT: separate script to pull data from RiotAPI for specific player data\n",
    "\n",
    "from sklearn.preprocessing import StandardScaler, OneHotEncoder\n",
    "from sklearn.model_selection import GridSearchCV,train_test_split,cross_val_score\n",
    "from sklearn.metrics import classification_report,confusion_matrix\n",
    "from sklearn.linear_model import LogisticRegression\n",
    "from sklearn.metrics import roc_curve, roc_auc_score\n",
    "import warnings\n",
    "warnings.filterwarnings('ignore')"
   ]
  },
  {
   "cell_type": "markdown",
   "metadata": {},
   "source": [
    "#### Data loading Cleaning:\n",
    "\n",
    "Let's clean up the data and split into feature (independent) and outcome (dependent) variables. Since there are many feature variables, to prevent overfitting, we will a piori select a group of variables that would likely contribute to determining win/loss (outcome variable)."
   ]
  },
  {
   "cell_type": "code",
   "execution_count": 5,
   "metadata": {},
   "outputs": [
    {
     "name": "stdout",
     "output_type": "stream",
     "text": [
      "Index(['true_role', 'champion_name', 'participant_id', 'match_id',\n",
      "       'match_rank_score', 'account_id', 'champion_id', 'win',\n",
      "       'companion_score', 'split_score', 'rotation_score', 'gold_earned',\n",
      "       'kills', 'deaths', 'assists', 'total_minions_killed',\n",
      "       'neutral_minions_killed', 'neutral_minions_killed_team_jungle',\n",
      "       'neutral_minions_killed_enemy_jungle', 'wards_placed', 'wards_killed',\n",
      "       'damage_self_mitigated', 'total_damage_taken',\n",
      "       'damage_dealt_to_objectives', 'damage_dealt_to_turrets',\n",
      "       'magic_damage_dealt_to_champions', 'physical_damage_dealt_to_champions',\n",
      "       'true_damage_dealt_do_dhampions', 'total_heal', 'time_ccing_others',\n",
      "       'percent_taken', 'total_damage_dealt_to_champions', 'percent_magic',\n",
      "       'kda', 'max_time'],\n",
      "      dtype='object')\n"
     ]
    }
   ],
   "source": [
    "#### Load data\n",
    "\n",
    "data=pd.read_csv(\"C:\\\\Users\\\\Zhe\\\\Documents\\\\DataScienceProjects\\\\totalSup.csv\")\n",
    "\n",
    "# make the column names reference-friendly\n",
    "data.columns = data.columns.str.strip().str.lower().str.replace(' ', '_')\n",
    "print(data.columns)\n",
    "\n",
    "# separate category and feature data\n",
    "dataX_all=data.drop('win',axis=1)\n",
    "dataY=data['win']\n",
    "\n",
    "# define columns to analyze\n",
    "columns2Keep = ['champion_name','match_rank_score','max_time','gold_earned','wards_placed','damage_dealt_to_objectives','damage_dealt_to_turrets','kda','total_damage_dealt_to_champions']\n",
    "dataX = dataX_all[columns2Keep]\n",
    "\n",
    "# append player data for one hot encoding and scaling\n",
    "numPlayerSamps = dfPlayer.shape[0]\n",
    "appendXPlayer = dataX.append(dfPlayer)"
   ]
  },
  {
   "cell_type": "markdown",
   "metadata": {},
   "source": [
    "#### Logistic regression Data Preprocessing\n",
    "\n",
    "Our first preprocessing step is to map the categorical variable to binary values using one-hot-encoding and to scale the continuous data. These two components need to be performed separately, then the resulting data are concatenated.\n",
    "\n",
    "This version temporarily appends player data pulled from riot API to the training data to ensure consistent scaling and one hot encoding. The normalized player data are then separated back out for later testing.\n",
    "\n",
    "Finally, we will need to split the data up into training and test sets. The training set will be used to build our logistic regression model and the test set will be used to evaluate the generalizability and accuracy of our model."
   ]
  },
  {
   "cell_type": "code",
   "execution_count": 6,
   "metadata": {},
   "outputs": [],
   "source": [
    "###### Logistic regression Data Preprocessing\n",
    "\n",
    "# Define which columns should be encoded vs scaled\n",
    "columns_to_encode = ['champion_name']\n",
    "columns_to_scale  = ['match_rank_score','max_time','gold_earned','wards_placed','damage_dealt_to_objectives','damage_dealt_to_turrets','kda','total_damage_dealt_to_champions']\n",
    "# Instantiate encoder/scaler\n",
    "scaler = StandardScaler()\n",
    "ohe    = OneHotEncoder(sparse=False)\n",
    "# Scale and Encode Separate Columns\n",
    "scaled_columns  = scaler.fit_transform(appendXPlayer[columns_to_scale]) \n",
    "encoded_columns =    ohe.fit_transform(appendXPlayer[columns_to_encode])\n",
    "# Concatenate (Column-Bind) Processed Columns Back Together\n",
    "processedX_appendPlayer = np.concatenate([scaled_columns, encoded_columns], axis=1)\n",
    "\n",
    "# IMPORTANT: split appended player data off after one hot encoding and scaling\n",
    "processedX = processedX_appendPlayer[:-numPlayerSamps,:]\n",
    "processedPlayerX = processedX_appendPlayer[-numPlayerSamps:,:]\n",
    "\n",
    "# from scikitlearn: split data into test and training sets\n",
    "xTrain,xTest,yTrain,yTest=train_test_split(processedX,dataY,test_size=0.2,random_state=42)\n"
   ]
  },
  {
   "cell_type": "markdown",
   "metadata": {},
   "source": [
    "#### Build the Logistic regression\n",
    "\n",
    "GridSearchCV allows us to define a set of parameters to test. The function iteratively evaluates each parameter combination and will choose the best model parameters."
   ]
  },
  {
   "cell_type": "code",
   "execution_count": 7,
   "metadata": {},
   "outputs": [
    {
     "name": "stdout",
     "output_type": "stream",
     "text": [
      "Best parameters set:\n",
      "{'C': 1, 'penalty': 'l2', 'random_state': 0}\n",
      "Optimized logistic regression performance:  84.394 %\n"
     ]
    }
   ],
   "source": [
    "###### Logistic regression\n",
    "\n",
    "# declare a few parameters to test for optimal model performance\n",
    "parameters=[\n",
    "{\n",
    "    'penalty':['l1','l2'],\n",
    "    'C':[0.1,0.4,0.5,1],\n",
    "    'random_state':[0]\n",
    "    },\n",
    "]\n",
    "\n",
    "logOptimal = GridSearchCV(LogisticRegression(), parameters, scoring='accuracy')\n",
    "logOptimal.fit(xTrain, yTrain)\n",
    "print('Best parameters set:')\n",
    "print(logOptimal.best_params_)\n",
    "\n",
    "pred = logOptimal.predict(xTest)\n",
    "\n",
    "from sklearn.metrics import accuracy_score\n",
    "print('Optimized logistic regression performance: ',\n",
    "      round(accuracy_score(yTest,pred),5)*100,'%')\n"
   ]
  },
  {
   "cell_type": "markdown",
   "metadata": {},
   "source": [
    "#### Examine contribution of variables to win\n",
    "\n",
    "We can pull out coefficients for each independent variable. Because we scaled all the independent variables in a previous step, we can compare the relative values of the coefficients. Higher coefficients indicate stronger influence."
   ]
  },
  {
   "cell_type": "code",
   "execution_count": 8,
   "metadata": {},
   "outputs": [
    {
     "data": {
      "text/plain": [
       "Text(0.5, 1.0, 'Log Reg Coef Scores')"
      ]
     },
     "execution_count": 8,
     "metadata": {},
     "output_type": "execute_result"
    },
    {
     "data": {
      "image/png": "[encoded data removed]",
      "text/plain": [
       "<Figure size 432x288 with 1 Axes>"
      ]
     },
     "metadata": {
      "needs_background": "light"
     },
     "output_type": "display_data"
    }
   ],
   "source": [
    "#### examine contribution of variables to win\n",
    "\n",
    "bestLR=LogisticRegression(C=1,penalty='l1',random_state=0)\n",
    "bestLR.fit(xTrain, yTrain)\n",
    "\n",
    "logCoefs = bestLR.coef_\n",
    "\n",
    "x_labels = ['Rank','MaxTime','Gold','Wards','ObjDmg','TurretDmg','KDA','ChampDmg']\n",
    "plt.bar(columns_to_scale[0:8],logCoefs[0,0:8])\n",
    "plt.ylabel('Coef Score')\n",
    "plt.xticks(np.arange(8), x_labels)\n",
    "plt.title('Log Reg Coef Scores')"
   ]
  },
  {
   "cell_type": "markdown",
   "metadata": {},
   "source": [
    "Figure 1. Coefficient scores for each independent variable of the fitted logistic regression. Higher values indicate stronger contribution to game outcome. We see here that gold, objective damage, turret damage, and KDA (kill-death-assist ratio) have heavy influence to game outcome. This is expected as League of Legends is at its core a strategy game."
   ]
  },
  {
   "cell_type": "markdown",
   "metadata": {},
   "source": [
    "#### Evaluate the model performance \n",
    "\n",
    "We will evaluate the model performance by plotting the receiver operating characteristic (ROC) curve and calculating the area under the curve (AUC)."
   ]
  },
  {
   "cell_type": "code",
   "execution_count": 9,
   "metadata": {},
   "outputs": [
    {
     "data": {
      "image/png": "[encoded data removed]",
      "text/plain": [
       "<Figure size 576x360 with 1 Axes>"
      ]
     },
     "metadata": {},
     "output_type": "display_data"
    }
   ],
   "source": [
    "#### calculate model performance\n",
    "\n",
    "# calculate predicted probability\n",
    "prob = logOptimal.predict_proba(xTest)[:,1]\n",
    "# calculate true and false pos \n",
    "falsePos,truePos,thresh = roc_curve(yTest,prob)\n",
    "#Calculate area under the curve\n",
    "AUCscore = roc_auc_score(yTest,prob)\n",
    "\n",
    "# ROC plot\n",
    "sns.set_style('whitegrid')\n",
    "plt.figure(figsize=(8,5))\n",
    "\n",
    "plt.plot(falsePos,truePos)\n",
    "plt.plot([0,1],ls='--')\n",
    "plt.plot([0,0],[1,0],c='.5')\n",
    "plt.plot([1,1],c='.5')\n",
    "\n",
    "plt.title('ROC Curve; AUC = ' + str(round(AUCscore,5)) + '; Model Test Accuracy = ' + str(round(accuracy_score(yTest,pred),3)*100) + '%')\n",
    "plt.ylabel('True positive rate')\n",
    "plt.xlabel('False positive rate')\n",
    "plt.show()"
   ]
  },
  {
   "cell_type": "markdown",
   "metadata": {},
   "source": [
    "Figure 2. Receiver operating characteristic (ROC) curve of the logistic regression. An ROC curve plots the sensitivity (true positive rate) as a function of specificity (1 - false positive rate). When the model performance (blue line) is close to the orange dotted line, the model has poor predictive power of game outcome; whereas if model performance reaches close to 1 and 0, respectively for true positive and false positive rates, the model has high predictive power. Here, we see that my trained logistic regression has decent predictive power with an area under the curve (AUC) of 0.912 and accuracy when predicting a test dataset of 83%."
   ]
  },
  {
   "cell_type": "code",
   "execution_count": 10,
   "metadata": {},
   "outputs": [
    {
     "name": "stdout",
     "output_type": "stream",
     "text": [
      "Optimized logistic regression performance:  84.932 %\n"
     ]
    },
    {
     "data": {
      "image/png": "[encoded data removed]",
      "text/plain": [
       "<Figure size 576x360 with 1 Axes>"
      ]
     },
     "metadata": {},
     "output_type": "display_data"
    }
   ],
   "source": [
    "#### Now predict game outcome for player data pulled from riot API\n",
    "\n",
    "pred = logOptimal.predict(processedPlayerX)\n",
    "\n",
    "print('Optimized logistic regression performance: ',\n",
    "      round(accuracy_score(dataYPlayer,pred),5)*100,'%')\n",
    "\n",
    "# calculate predicted probability\n",
    "prob = logOptimal.predict_proba(processedPlayerX)[:,1]\n",
    "# calculate true and false pos \n",
    "falsePos,truePos,thresh = roc_curve(dataYPlayer,prob)\n",
    "#Calculate area under the curve\n",
    "AUCscore = roc_auc_score(dataYPlayer,prob)\n",
    "\n",
    "# ROC plot\n",
    "sns.set_style('whitegrid')\n",
    "plt.figure(figsize=(8,5))\n",
    "\n",
    "plt.plot(falsePos,truePos)\n",
    "plt.plot([0,1],ls='--')\n",
    "plt.plot([0,0],[1,0],c='.5')\n",
    "plt.plot([1,1],c='.5')\n",
    "\n",
    "plt.title('ROC Curve; AUC = ' + str(round(AUCscore,5)) + '; Model Test Accuracy = ' + str(round(accuracy_score(dataYPlayer,pred),3)*100) + '%')\n",
    "plt.ylabel('True positive rate')\n",
    "plt.xlabel('False positive rate')\n",
    "plt.show()\n"
   ]
  }
 ],
 "metadata": {
  "kernelspec": {
   "display_name": "Python 3",
   "language": "python",
   "name": "python3"
  },
  "language_info": {
   "codemirror_mode": {
    "name": "ipython",
    "version": 3
   },
   "file_extension": ".py",
   "mimetype": "text/x-python",
   "name": "python",
   "nbconvert_exporter": "python",
   "pygments_lexer": "ipython3",
   "version": "3.7.0"
  }
 },
 "nbformat": 4,
 "nbformat_minor": 2
}
